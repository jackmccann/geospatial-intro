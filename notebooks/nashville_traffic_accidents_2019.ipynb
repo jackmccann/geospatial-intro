{
 "cells": [
  {
   "cell_type": "markdown",
   "metadata": {
    "slideshow": {
     "slide_type": "-"
    }
   },
   "source": [
    "<img src=\"../images/nashville_accident.png\"/>"
   ]
  },
  {
   "cell_type": "markdown",
   "metadata": {
    "slideshow": {
     "slide_type": "-"
    }
   },
   "source": [
    "### Which of Nashville's zip codes had the highest concentration of traffic fatalities 2019?"
   ]
  },
  {
   "cell_type": "markdown",
   "metadata": {},
   "source": [
    "Pseudocode:\n",
    "    \n",
    "    1. Browse data.nashville.gov\n",
    "    2. Identify question\n",
    "    3. Setup environment\n",
    "    4. Import needed dataframes\n",
    "    5. Explore data\n",
    "    6. Merge dataframes\n",
    "    7. Slice 'n dice\n",
    "    8. Plot data\n",
    "    9. Heatmap it\n",
    "    10. Answer question\n",
    "    "
   ]
  },
  {
   "cell_type": "markdown",
   "metadata": {},
   "source": [
    "#### importing packages"
   ]
  },
  {
   "cell_type": "code",
   "execution_count": 1,
   "metadata": {
    "slideshow": {
     "slide_type": "-"
    }
   },
   "outputs": [],
   "source": [
    "from shapely.geometry import Point\n",
    "import pandas as pd\n",
    "import geopandas as gpd\n",
    "import matplotlib.pyplot as plt\n",
    "import folium\n",
    "from folium.plugins import MarkerCluster\n",
    "from folium.plugins import FastMarkerCluster\n",
    "\n",
    "%matplotlib inline"
   ]
  },
  {
   "cell_type": "markdown",
   "metadata": {},
   "source": [
    "#### loading dataframes, checking shapes"
   ]
  },
  {
   "cell_type": "code",
   "execution_count": 2,
   "metadata": {
    "scrolled": true
   },
   "outputs": [
    {
     "data": {
      "text/plain": [
       "(34692, 25)"
      ]
     },
     "execution_count": 2,
     "metadata": {},
     "output_type": "execute_result"
    }
   ],
   "source": [
    "accidents_df = gpd.read_file('../data/traffic_accidents_2019.geojson')\n",
    "accidents_df.shape"
   ]
  },
  {
   "cell_type": "code",
   "execution_count": 3,
   "metadata": {},
   "outputs": [
    {
     "data": {
      "text/plain": [
       "(56, 6)"
      ]
     },
     "execution_count": 3,
     "metadata": {},
     "output_type": "execute_result"
    }
   ],
   "source": [
    "zipcodes_df = gpd.read_file('../data/zipcodes.geojson')\n",
    "zipcodes_df.shape"
   ]
  },
  {
   "cell_type": "markdown",
   "metadata": {},
   "source": [
    "#### exploring each dataframe in more detail"
   ]
  },
  {
   "cell_type": "code",
   "execution_count": 26,
   "metadata": {
    "scrolled": true
   },
   "outputs": [
    {
     "name": "stdout",
     "output_type": "stream",
     "text": [
      "<class 'geopandas.geodataframe.GeoDataFrame'>\n",
      "RangeIndex: 34692 entries, 0 to 34691\n",
      "Data columns (total 25 columns):\n",
      "harmful_codes                 34692 non-null object\n",
      "zip_code                      34658 non-null object\n",
      "rpa                           34681 non-null object\n",
      "latitude                      34670 non-null object\n",
      "harmful_codes_description     34333 non-null object\n",
      "weather_description           34641 non-null object\n",
      "number_of_injuries            34692 non-null object\n",
      "collision_type                34688 non-null object\n",
      "date_and_time                 34692 non-null object\n",
      "reporting_officer             34684 non-null object\n",
      "longitude                     34670 non-null object\n",
      "hit_and_run                   34691 non-null object\n",
      "number_of_motor_vehicles      34692 non-null object\n",
      "precinct                      34681 non-null object\n",
      "accident_number               34692 non-null object\n",
      "city_name                     34692 non-null object\n",
      "collision_type_description    34688 non-null object\n",
      "illumination_description      34665 non-null object\n",
      "street_address                34691 non-null object\n",
      "number_of_fatalities          34692 non-null object\n",
      "weather                       34641 non-null object\n",
      "property_damage               2495 non-null object\n",
      "illumination                  34665 non-null object\n",
      "state_name                    34692 non-null object\n",
      "geometry                      34670 non-null geometry\n",
      "dtypes: geometry(1), object(24)\n",
      "memory usage: 6.6+ MB\n"
     ]
    }
   ],
   "source": [
    "accidents_df.info()"
   ]
  },
  {
   "cell_type": "code",
   "execution_count": 5,
   "metadata": {},
   "outputs": [
    {
     "name": "stdout",
     "output_type": "stream",
     "text": [
      "<class 'geopandas.geodataframe.GeoDataFrame'>\n",
      "RangeIndex: 56 entries, 0 to 55\n",
      "Data columns (total 6 columns):\n",
      "zip               56 non-null object\n",
      "objectid          56 non-null object\n",
      "po_name           56 non-null object\n",
      "shape_stlength    56 non-null object\n",
      "shape_starea      56 non-null object\n",
      "geometry          56 non-null geometry\n",
      "dtypes: geometry(1), object(5)\n",
      "memory usage: 2.8+ KB\n"
     ]
    }
   ],
   "source": [
    "zipcodes_df.info()"
   ]
  },
  {
   "cell_type": "code",
   "execution_count": 6,
   "metadata": {},
   "outputs": [
    {
     "data": {
      "text/html": [
       "<div>\n",
       "<style scoped>\n",
       "    .dataframe tbody tr th:only-of-type {\n",
       "        vertical-align: middle;\n",
       "    }\n",
       "\n",
       "    .dataframe tbody tr th {\n",
       "        vertical-align: top;\n",
       "    }\n",
       "\n",
       "    .dataframe thead th {\n",
       "        text-align: right;\n",
       "    }\n",
       "</style>\n",
       "<table border=\"1\" class=\"dataframe\">\n",
       "  <thead>\n",
       "    <tr style=\"text-align: right;\">\n",
       "      <th></th>\n",
       "      <th>harmful_codes</th>\n",
       "      <th>zip_code</th>\n",
       "      <th>rpa</th>\n",
       "      <th>latitude</th>\n",
       "      <th>harmful_codes_description</th>\n",
       "      <th>weather_description</th>\n",
       "      <th>number_of_injuries</th>\n",
       "      <th>collision_type</th>\n",
       "      <th>date_and_time</th>\n",
       "      <th>reporting_officer</th>\n",
       "      <th>...</th>\n",
       "      <th>city_name</th>\n",
       "      <th>collision_type_description</th>\n",
       "      <th>illumination_description</th>\n",
       "      <th>street_address</th>\n",
       "      <th>number_of_fatalities</th>\n",
       "      <th>weather</th>\n",
       "      <th>property_damage</th>\n",
       "      <th>illumination</th>\n",
       "      <th>state_name</th>\n",
       "      <th>geometry</th>\n",
       "    </tr>\n",
       "  </thead>\n",
       "  <tbody>\n",
       "    <tr>\n",
       "      <td>0</td>\n",
       "      <td>12</td>\n",
       "      <td>37013</td>\n",
       "      <td>8753</td>\n",
       "      <td>36.0449</td>\n",
       "      <td>MOTOR VEHICLE IN TRANSPORT</td>\n",
       "      <td>CLEAR</td>\n",
       "      <td>0</td>\n",
       "      <td>4</td>\n",
       "      <td>2019-01-15T19:40:00</td>\n",
       "      <td>256374</td>\n",
       "      <td>...</td>\n",
       "      <td>ANTIOCH</td>\n",
       "      <td>ANGLE</td>\n",
       "      <td>DARK - LIGHTED</td>\n",
       "      <td>BELL RD &amp; CEDAR POINTE PKWY</td>\n",
       "      <td>0</td>\n",
       "      <td>21</td>\n",
       "      <td>None</td>\n",
       "      <td>3</td>\n",
       "      <td>TN</td>\n",
       "      <td>POINT (-86.66710 36.04490)</td>\n",
       "    </tr>\n",
       "    <tr>\n",
       "      <td>1</td>\n",
       "      <td>14</td>\n",
       "      <td>37214</td>\n",
       "      <td>8955</td>\n",
       "      <td>36.1531</td>\n",
       "      <td>PARKED MOTOR VEHICLE</td>\n",
       "      <td>RAIN</td>\n",
       "      <td>0</td>\n",
       "      <td>11</td>\n",
       "      <td>2019-01-17T23:09:00</td>\n",
       "      <td>405424</td>\n",
       "      <td>...</td>\n",
       "      <td>NASHVILLE</td>\n",
       "      <td>Front to Rear</td>\n",
       "      <td>DARK - LIGHTED</td>\n",
       "      <td>3248 PERCY PRIEST DR</td>\n",
       "      <td>0</td>\n",
       "      <td>2</td>\n",
       "      <td>None</td>\n",
       "      <td>3</td>\n",
       "      <td>TN</td>\n",
       "      <td>POINT (-86.62910 36.15310)</td>\n",
       "    </tr>\n",
       "    <tr>\n",
       "      <td>2</td>\n",
       "      <td>14</td>\n",
       "      <td>37204</td>\n",
       "      <td>8305</td>\n",
       "      <td>36.1122</td>\n",
       "      <td>PARKED MOTOR VEHICLE</td>\n",
       "      <td>CLEAR</td>\n",
       "      <td>0</td>\n",
       "      <td>6</td>\n",
       "      <td>2019-01-20T12:57:00</td>\n",
       "      <td>834798</td>\n",
       "      <td>...</td>\n",
       "      <td>NASHVILLE</td>\n",
       "      <td>SIDESWIPE - OPPOSITE DIRECTION</td>\n",
       "      <td>DAYLIGHT</td>\n",
       "      <td>700 THOMPSON LN</td>\n",
       "      <td>0</td>\n",
       "      <td>21</td>\n",
       "      <td>None</td>\n",
       "      <td>1</td>\n",
       "      <td>TN</td>\n",
       "      <td>POINT (-86.76250 36.11220)</td>\n",
       "    </tr>\n",
       "  </tbody>\n",
       "</table>\n",
       "<p>3 rows × 25 columns</p>\n",
       "</div>"
      ],
      "text/plain": [
       "  harmful_codes zip_code   rpa latitude   harmful_codes_description  \\\n",
       "0            12    37013  8753  36.0449  MOTOR VEHICLE IN TRANSPORT   \n",
       "1            14    37214  8955  36.1531        PARKED MOTOR VEHICLE   \n",
       "2            14    37204  8305  36.1122        PARKED MOTOR VEHICLE   \n",
       "\n",
       "  weather_description number_of_injuries collision_type        date_and_time  \\\n",
       "0               CLEAR                  0              4  2019-01-15T19:40:00   \n",
       "1                RAIN                  0             11  2019-01-17T23:09:00   \n",
       "2               CLEAR                  0              6  2019-01-20T12:57:00   \n",
       "\n",
       "  reporting_officer  ...  city_name      collision_type_description  \\\n",
       "0            256374  ...    ANTIOCH                           ANGLE   \n",
       "1            405424  ...  NASHVILLE                   Front to Rear   \n",
       "2            834798  ...  NASHVILLE  SIDESWIPE - OPPOSITE DIRECTION   \n",
       "\n",
       "  illumination_description               street_address number_of_fatalities  \\\n",
       "0           DARK - LIGHTED  BELL RD & CEDAR POINTE PKWY                    0   \n",
       "1           DARK - LIGHTED         3248 PERCY PRIEST DR                    0   \n",
       "2                 DAYLIGHT              700 THOMPSON LN                    0   \n",
       "\n",
       "  weather property_damage illumination state_name                    geometry  \n",
       "0      21            None            3         TN  POINT (-86.66710 36.04490)  \n",
       "1       2            None            3         TN  POINT (-86.62910 36.15310)  \n",
       "2      21            None            1         TN  POINT (-86.76250 36.11220)  \n",
       "\n",
       "[3 rows x 25 columns]"
      ]
     },
     "execution_count": 6,
     "metadata": {},
     "output_type": "execute_result"
    }
   ],
   "source": [
    "accidents_df.head(3)"
   ]
  },
  {
   "cell_type": "code",
   "execution_count": 7,
   "metadata": {
    "scrolled": false
   },
   "outputs": [
    {
     "data": {
      "text/html": [
       "<div>\n",
       "<style scoped>\n",
       "    .dataframe tbody tr th:only-of-type {\n",
       "        vertical-align: middle;\n",
       "    }\n",
       "\n",
       "    .dataframe tbody tr th {\n",
       "        vertical-align: top;\n",
       "    }\n",
       "\n",
       "    .dataframe thead th {\n",
       "        text-align: right;\n",
       "    }\n",
       "</style>\n",
       "<table border=\"1\" class=\"dataframe\">\n",
       "  <thead>\n",
       "    <tr style=\"text-align: right;\">\n",
       "      <th></th>\n",
       "      <th>zip</th>\n",
       "      <th>objectid</th>\n",
       "      <th>po_name</th>\n",
       "      <th>shape_stlength</th>\n",
       "      <th>shape_starea</th>\n",
       "      <th>geometry</th>\n",
       "    </tr>\n",
       "  </thead>\n",
       "  <tbody>\n",
       "    <tr>\n",
       "      <td>0</td>\n",
       "      <td>37115</td>\n",
       "      <td>1</td>\n",
       "      <td>MADISON</td>\n",
       "      <td>178783.02488886821</td>\n",
       "      <td>596553400.57885742</td>\n",
       "      <td>MULTIPOLYGON (((-86.68725 36.31821, -86.68722 ...</td>\n",
       "    </tr>\n",
       "    <tr>\n",
       "      <td>1</td>\n",
       "      <td>37216</td>\n",
       "      <td>3</td>\n",
       "      <td>NASHVILLE</td>\n",
       "      <td>75820.997821400058</td>\n",
       "      <td>188884682.28344727</td>\n",
       "      <td>MULTIPOLYGON (((-86.73451 36.23774, -86.73425 ...</td>\n",
       "    </tr>\n",
       "    <tr>\n",
       "      <td>2</td>\n",
       "      <td>37204</td>\n",
       "      <td>9</td>\n",
       "      <td>NASHVILLE</td>\n",
       "      <td>93180.292250425613</td>\n",
       "      <td>200664795.51708984</td>\n",
       "      <td>MULTIPOLYGON (((-86.77914 36.13424, -86.77923 ...</td>\n",
       "    </tr>\n",
       "  </tbody>\n",
       "</table>\n",
       "</div>"
      ],
      "text/plain": [
       "     zip objectid    po_name      shape_stlength        shape_starea  \\\n",
       "0  37115        1    MADISON  178783.02488886821  596553400.57885742   \n",
       "1  37216        3  NASHVILLE  75820.997821400058  188884682.28344727   \n",
       "2  37204        9  NASHVILLE  93180.292250425613  200664795.51708984   \n",
       "\n",
       "                                            geometry  \n",
       "0  MULTIPOLYGON (((-86.68725 36.31821, -86.68722 ...  \n",
       "1  MULTIPOLYGON (((-86.73451 36.23774, -86.73425 ...  \n",
       "2  MULTIPOLYGON (((-86.77914 36.13424, -86.77923 ...  "
      ]
     },
     "execution_count": 7,
     "metadata": {},
     "output_type": "execute_result"
    }
   ],
   "source": [
    "zipcodes_df.head(3)"
   ]
  },
  {
   "cell_type": "code",
   "execution_count": 8,
   "metadata": {
    "scrolled": false
   },
   "outputs": [
    {
     "data": {
      "text/plain": [
       "<matplotlib.axes._subplots.AxesSubplot at 0x11fdfe810>"
      ]
     },
     "execution_count": 8,
     "metadata": {},
     "output_type": "execute_result"
    },
    {
     "data": {
      "image/png": "[encoded data removed]",
      "text/plain": [
       "<Figure size 432x288 with 1 Axes>"
      ]
     },
     "metadata": {
      "needs_background": "light"
     },
     "output_type": "display_data"
    }
   ],
   "source": [
    "accidents_df.plot()"
   ]
  },
  {
   "cell_type": "code",
   "execution_count": 9,
   "metadata": {
    "scrolled": true
   },
   "outputs": [
    {
     "data": {
      "image/png": "[encoded data removed]",
      "text/plain": [
       "<Figure size 432x288 with 1 Axes>"
      ]
     },
     "metadata": {
      "needs_background": "light"
     },
     "output_type": "display_data"
    }
   ],
   "source": [
    "zipcodes_df.plot();"
   ]
  },
  {
   "cell_type": "markdown",
   "metadata": {},
   "source": [
    "#### merging accidents_df (points) and zipcodes_df (polygons) into one dataframe"
   ]
  },
  {
   "cell_type": "code",
   "execution_count": 24,
   "metadata": {},
   "outputs": [
    {
     "data": {
      "text/plain": [
       "(34629, 31)"
      ]
     },
     "execution_count": 24,
     "metadata": {},
     "output_type": "execute_result"
    }
   ],
   "source": [
    "az_df = gpd.sjoin(accidents_df, \n",
    "                  zipcodes_df, \n",
    "op = 'within')\n",
    "az_df.shape"
   ]
  },
  {
   "cell_type": "code",
   "execution_count": 25,
   "metadata": {
    "scrolled": true
   },
   "outputs": [
    {
     "data": {
      "text/plain": [
       "<matplotlib.axes._subplots.AxesSubplot at 0x11fe55710>"
      ]
     },
     "execution_count": 25,
     "metadata": {},
     "output_type": "execute_result"
    },
    {
     "data": {
      "image/png": "[encoded data removed]",
      "text/plain": [
       "<Figure size 432x288 with 1 Axes>"
      ]
     },
     "metadata": {
      "needs_background": "light"
     },
     "output_type": "display_data"
    }
   ],
   "source": [
    "az_df.plot()"
   ]
  },
  {
   "cell_type": "markdown",
   "metadata": {},
   "source": [
    "#### dropping some unnesessary columns"
   ]
  },
  {
   "cell_type": "code",
   "execution_count": 12,
   "metadata": {
    "scrolled": false
   },
   "outputs": [
    {
     "data": {
      "text/plain": [
       "Index(['harmful_codes', 'zip_code', 'rpa', 'latitude',\n",
       "       'harmful_codes_description', 'weather_description',\n",
       "       'number_of_injuries', 'collision_type', 'date_and_time',\n",
       "       'reporting_officer', 'longitude', 'hit_and_run',\n",
       "       'number_of_motor_vehicles', 'precinct', 'accident_number', 'city_name',\n",
       "       'collision_type_description', 'illumination_description',\n",
       "       'street_address', 'number_of_fatalities', 'weather', 'property_damage',\n",
       "       'illumination', 'state_name', 'geometry', 'index_right', 'zip',\n",
       "       'objectid', 'po_name', 'shape_stlength', 'shape_starea'],\n",
       "      dtype='object')"
      ]
     },
     "execution_count": 12,
     "metadata": {},
     "output_type": "execute_result"
    }
   ],
   "source": [
    "az_df.columns"
   ]
  },
  {
   "cell_type": "code",
   "execution_count": 43,
   "metadata": {
    "scrolled": true
   },
   "outputs": [
    {
     "data": {
      "text/plain": [
       "(34629, 31)"
      ]
     },
     "execution_count": 43,
     "metadata": {},
     "output_type": "execute_result"
    }
   ],
   "source": [
    "az_df.drop(['harmful_codes', \n",
    "            'rpa', \n",
    "            'collision_type', \n",
    "            'reporting_officer',\n",
    "            'hit_and_run',\n",
    "            'number_of_motor_vehicles', \n",
    "            'precinct', \n",
    "            'accident_number',\n",
    "            'illumination_description',\n",
    "            'property_damage',\n",
    "            'illumination',\n",
    "            'po_name',],\n",
    "axis=1).head(3)\n",
    "az_df.shape"
   ]
  },
  {
   "cell_type": "code",
   "execution_count": 42,
   "metadata": {},
   "outputs": [
    {
     "data": {
      "text/plain": [
       "(34629, 31)"
      ]
     },
     "execution_count": 42,
     "metadata": {},
     "output_type": "execute_result"
    }
   ],
   "source": [
    "az_df = az_df[az_df.number_of_fatalities !=0]\n",
    "az_df.shape"
   ]
  },
  {
   "cell_type": "code",
   "execution_count": 19,
   "metadata": {},
   "outputs": [],
   "source": [
    "# stumped I think ^"
   ]
  }
 ],
 "metadata": {
  "kernelspec": {
   "display_name": "Python 3",
   "language": "python",
   "name": "python3"
  },
  "language_info": {
   "codemirror_mode": {
    "name": "ipython",
    "version": 3
   },
   "file_extension": ".py",
   "mimetype": "text/x-python",
   "name": "python",
   "nbconvert_exporter": "python",
   "pygments_lexer": "ipython3",
   "version": "3.7.4"
  }
 },
 "nbformat": 4,
 "nbformat_minor": 2
}
